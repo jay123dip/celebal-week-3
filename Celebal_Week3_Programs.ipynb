{
 "cells": [
  {
   "cell_type": "markdown",
   "metadata": {
    "id": "KBzR24APVhRk"
   },
   "source": [
    "List"
   ]
  },
  {
   "cell_type": "code",
   "execution_count": 6,
   "metadata": {
    "colab": {
     "base_uri": "https://localhost:8080/"
    },
    "executionInfo": {
     "elapsed": 482,
     "status": "ok",
     "timestamp": 1646756766008,
     "user": {
      "displayName": "Mansi Vadane",
      "photoUrl": "https://lh3.googleusercontent.com/a-/AOh14Ggm478UHcFcGYq9EoRalkIO9y4oHx2ZTyA5KPUBzaY=s64",
      "userId": "10914899994357057095"
     },
     "user_tz": -330
    },
    "id": "dHQMIoCgSqLJ",
    "outputId": "fe94e6e0-323e-416a-ffbc-49d6af574006"
   },
   "outputs": [
    {
     "name": "stdout",
     "output_type": "stream",
     "text": [
      "[]\n",
      "<class 'list'>\n"
     ]
    }
   ],
   "source": [
    "#List\n",
    "l=[] # empty list\n",
    "print(l)\n",
    "print(type(l))"
   ]
  },
  {
   "cell_type": "code",
   "execution_count": 2,
   "metadata": {
    "colab": {
     "base_uri": "https://localhost:8080/"
    },
    "executionInfo": {
     "elapsed": 6,
     "status": "ok",
     "timestamp": 1646756054303,
     "user": {
      "displayName": "Mansi Vadane",
      "photoUrl": "https://lh3.googleusercontent.com/a-/AOh14Ggm478UHcFcGYq9EoRalkIO9y4oHx2ZTyA5KPUBzaY=s64",
      "userId": "10914899994357057095"
     },
     "user_tz": -330
    },
    "id": "iPTwoR2cTDjU",
    "outputId": "9a1c6945-2d3b-4350-e74c-b91043253434"
   },
   "outputs": [
    {
     "name": "stdout",
     "output_type": "stream",
     "text": [
      "[1, 2, 6, 9, 2, 5]\n",
      "['sanjivani', 'celebal', 'students']\n",
      "[1, 3, 5, 'python', 4.5, 9]\n"
     ]
    }
   ],
   "source": [
    "l=[1,2,6,9,2,5] #list having integer values\n",
    "ls=['sanjivani', 'celebal', 'students'] # list having string values\n",
    "lst=[1,3,5,'python',4.5,9] #list with mixed values\n",
    "print(l)\n",
    "print(ls)\n",
    "print(lst)"
   ]
  },
  {
   "cell_type": "code",
   "execution_count": 3,
   "metadata": {
    "colab": {
     "base_uri": "https://localhost:8080/"
    },
    "executionInfo": {
     "elapsed": 581,
     "status": "ok",
     "timestamp": 1646756586985,
     "user": {
      "displayName": "Mansi Vadane",
      "photoUrl": "https://lh3.googleusercontent.com/a-/AOh14Ggm478UHcFcGYq9EoRalkIO9y4oHx2ZTyA5KPUBzaY=s64",
      "userId": "10914899994357057095"
     },
     "user_tz": -330
    },
    "id": "3buzPQAcT1y7",
    "outputId": "16e6185c-8b04-49d2-bf7e-5493ddbda15e"
   },
   "outputs": [
    {
     "name": "stdout",
     "output_type": "stream",
     "text": [
      "['c', 'e', 'l', 'e', 'b', 'a', 'l']\n",
      "c\n",
      "b\n",
      "l\n",
      "a\n",
      "5\n"
     ]
    }
   ],
   "source": [
    "my_list=['c','e','l','e','b','a','l']\n",
    "print(my_list)\n",
    "\n",
    "#access 0th element\n",
    "print(my_list[0])\n",
    "\n",
    "#access middle element\n",
    "print(my_list[4])\n",
    "\n",
    "#access last element\n",
    "print(my_list[-1])\n",
    "\n",
    "# Nested List\n",
    "n_list = [\"Happy\", [2, 0, 1, 5]]\n",
    "\n",
    "# Nested indexing\n",
    "print(n_list[0][1])\n",
    "\n",
    "print(n_list[1][3])"
   ]
  },
  {
   "cell_type": "code",
   "execution_count": 6,
   "metadata": {
    "colab": {
     "base_uri": "https://localhost:8080/"
    },
    "executionInfo": {
     "elapsed": 503,
     "status": "ok",
     "timestamp": 1646756691059,
     "user": {
      "displayName": "Mansi Vadane",
      "photoUrl": "https://lh3.googleusercontent.com/a-/AOh14Ggm478UHcFcGYq9EoRalkIO9y4oHx2ZTyA5KPUBzaY=s64",
      "userId": "10914899994357057095"
     },
     "user_tz": -330
    },
    "id": "_0XF5EV-V5FG",
    "outputId": "f8bbb7aa-79d4-4729-fb61-cfd63d05b0cd"
   },
   "outputs": [
    {
     "name": "stdout",
     "output_type": "stream",
     "text": [
      "['g', 'i', 'n']\n",
      "['e', 'e', 'r', 'i', 'n', 'g']\n",
      "['e', 'n', 'g', 'i', 'n', 'e', 'e', 'r', 'i', 'n', 'g']\n"
     ]
    }
   ],
   "source": [
    "# List slicing in Python\n",
    "\n",
    "my_list = ['e','n','g','i','n','e','e','r','i','n','g']\n",
    "\n",
    "# elements from index 2 to index 4\n",
    "print(my_list[2:5])\n",
    "\n",
    "# elements from index 5 to end\n",
    "print(my_list[5:])\n",
    "\n",
    "# elements beginning to end\n",
    "print(my_list[:])"
   ]
  },
  {
   "cell_type": "markdown",
   "metadata": {
    "id": "HZmxz689WRDa"
   },
   "source": [
    "Tuple"
   ]
  },
  {
   "cell_type": "code",
   "execution_count": 5,
   "metadata": {
    "colab": {
     "base_uri": "https://localhost:8080/"
    },
    "executionInfo": {
     "elapsed": 642,
     "status": "ok",
     "timestamp": 1646756750650,
     "user": {
      "displayName": "Mansi Vadane",
      "photoUrl": "https://lh3.googleusercontent.com/a-/AOh14Ggm478UHcFcGYq9EoRalkIO9y4oHx2ZTyA5KPUBzaY=s64",
      "userId": "10914899994357057095"
     },
     "user_tz": -330
    },
    "id": "WE4dAN4TWSwI",
    "outputId": "d208db57-5dc1-4e66-e081-cc246640a324"
   },
   "outputs": [
    {
     "name": "stdout",
     "output_type": "stream",
     "text": [
      "()\n",
      "<class 'tuple'>\n"
     ]
    }
   ],
   "source": [
    "# empty tuple\n",
    "t=()\n",
    "print(t)\n",
    "print(type(t))"
   ]
  },
  {
   "cell_type": "code",
   "execution_count": 12,
   "metadata": {
    "colab": {
     "base_uri": "https://localhost:8080/"
    },
    "executionInfo": {
     "elapsed": 771,
     "status": "ok",
     "timestamp": 1646757141739,
     "user": {
      "displayName": "Mansi Vadane",
      "photoUrl": "https://lh3.googleusercontent.com/a-/AOh14Ggm478UHcFcGYq9EoRalkIO9y4oHx2ZTyA5KPUBzaY=s64",
      "userId": "10914899994357057095"
     },
     "user_tz": -330
    },
    "id": "b2zWMtyXWkmG",
    "outputId": "879dd76f-b576-485c-89ac-df960d6b0aaa"
   },
   "outputs": [
    {
     "name": "stdout",
     "output_type": "stream",
     "text": [
      "(4, 5, 9, 1)\n",
      "(4, 5, 9, 1)\n",
      "('student', [4, 7, 9], (1, 2, 3))\n",
      "3\n",
      "a\n",
      "l\n"
     ]
    }
   ],
   "source": [
    "# Tuple having integers\n",
    "my_tuple = (4,5,9,1)\n",
    "print(my_tuple)\n",
    "\n",
    "# tuple with mixed datatypes\n",
    "my_tuple1 = (1, \"Hello\", 3.4)\n",
    "print(my_tuple)\n",
    "\n",
    "# nested tuple\n",
    "my_tuple = (\"student\", [4,7,9], (1, 2, 3))\n",
    "print(my_tuple)\n",
    "\n",
    "#tuple indexing\n",
    "print(my_tuple[2][2])\n",
    "\n",
    "my_tup=('c','e','l','e','b','a','l')\n",
    "print(my_tup[5])\n",
    "\n",
    "#negative indexing\n",
    "print(my_tup[-1])"
   ]
  },
  {
   "cell_type": "code",
   "execution_count": 14,
   "metadata": {
    "colab": {
     "base_uri": "https://localhost:8080/"
    },
    "executionInfo": {
     "elapsed": 546,
     "status": "ok",
     "timestamp": 1646757272317,
     "user": {
      "displayName": "Mansi Vadane",
      "photoUrl": "https://lh3.googleusercontent.com/a-/AOh14Ggm478UHcFcGYq9EoRalkIO9y4oHx2ZTyA5KPUBzaY=s64",
      "userId": "10914899994357057095"
     },
     "user_tz": -330
    },
    "id": "rQN_vH01YHcV",
    "outputId": "d6a44ff5-242e-46c0-ae9d-d88dbcdc716b"
   },
   "outputs": [
    {
     "name": "stdout",
     "output_type": "stream",
     "text": [
      "('c', 'e', 'l', 'e', 'b', 'a', 'l')\n",
      "('e', 'l', 'e')\n",
      "('c',)\n",
      "('l',)\n"
     ]
    }
   ],
   "source": [
    "# Accessing tuple elements using slicing\n",
    "my_tuple = ('c','e','l','e','b','a','l')\n",
    "\n",
    "# elements beginning to end\n",
    "print(my_tuple[:])\n",
    "\n",
    "# elements 2nd to 4th\n",
    "print(my_tuple[1:4])\n",
    "\n",
    "# elements beginning to 2nd\n",
    "print(my_tuple[:-6])\n",
    "\n",
    "# elements 8th to end\n",
    "print(my_tuple[6:])"
   ]
  },
  {
   "cell_type": "code",
   "execution_count": 19,
   "metadata": {
    "colab": {
     "base_uri": "https://localhost:8080/"
    },
    "executionInfo": {
     "elapsed": 437,
     "status": "ok",
     "timestamp": 1646757584534,
     "user": {
      "displayName": "Mansi Vadane",
      "photoUrl": "https://lh3.googleusercontent.com/a-/AOh14Ggm478UHcFcGYq9EoRalkIO9y4oHx2ZTyA5KPUBzaY=s64",
      "userId": "10914899994357057095"
     },
     "user_tz": -330
    },
    "id": "uIgwGb88YlMr",
    "outputId": "7003656d-ad95-4fc4-a906-41dd6b37571c"
   },
   "outputs": [
    {
     "name": "stdout",
     "output_type": "stream",
     "text": [
      "(2, 5, 8, 9, 1)\n",
      "('c', 'e', 'l', 'e', 'b', 'a', 'l')\n"
     ]
    }
   ],
   "source": [
    "# changing tuple values\n",
    "my_tuple = (2,5,8,9,1)\n",
    "print(my_tuple)\n",
    "\n",
    "my_tuple = ('c','e','l','e','b','a','l')\n",
    "print(my_tuple)"
   ]
  },
  {
   "cell_type": "markdown",
   "metadata": {
    "id": "jB8LkUSOZ5It"
   },
   "source": [
    "Set"
   ]
  },
  {
   "cell_type": "code",
   "execution_count": 20,
   "metadata": {
    "colab": {
     "base_uri": "https://localhost:8080/"
    },
    "executionInfo": {
     "elapsed": 625,
     "status": "ok",
     "timestamp": 1646757793976,
     "user": {
      "displayName": "Mansi Vadane",
      "photoUrl": "https://lh3.googleusercontent.com/a-/AOh14Ggm478UHcFcGYq9EoRalkIO9y4oHx2ZTyA5KPUBzaY=s64",
      "userId": "10914899994357057095"
     },
     "user_tz": -330
    },
    "id": "zVigd3-NZ6bM",
    "outputId": "03157acc-f04d-49dc-d943-8cfbe245da18"
   },
   "outputs": [
    {
     "name": "stdout",
     "output_type": "stream",
     "text": [
      "<class 'set'>\n"
     ]
    }
   ],
   "source": [
    "# creating empty set\n",
    "s = set()\n",
    "print(type(s))"
   ]
  },
  {
   "cell_type": "code",
   "execution_count": 2,
   "metadata": {
    "colab": {
     "base_uri": "https://localhost:8080/"
    },
    "executionInfo": {
     "elapsed": 431,
     "status": "ok",
     "timestamp": 1646758376212,
     "user": {
      "displayName": "Mansi Vadane",
      "photoUrl": "https://lh3.googleusercontent.com/a-/AOh14Ggm478UHcFcGYq9EoRalkIO9y4oHx2ZTyA5KPUBzaY=s64",
      "userId": "10914899994357057095"
     },
     "user_tz": -330
    },
    "id": "76qmTTR5ad88",
    "outputId": "6f6d6afb-7e07-41f8-8c50-f4bf47daa0e6"
   },
   "outputs": [
    {
     "name": "stdout",
     "output_type": "stream",
     "text": [
      "{1, 3, 3.4, 5, 5.9, 'gaurav', 'ashutosh'}\n",
      "1\n",
      "3\n",
      "3.4\n",
      "5\n",
      "5.9\n",
      "12\n",
      "gaurav\n",
      "ashutosh\n",
      "{1, 3, 3.4, 5, 5.9, 12, 22, 'gaurav', 'jaydip', 'ashutosh'}\n",
      "{1, 3.4, 5, 5.9, 12, 22, 'jaydip', 'ashutosh'}\n"
     ]
    }
   ],
   "source": [
    "# set with nested values\n",
    "my_set = {1,3,5,'gaurav', 'ashutosh', 3.4, 5.9}\n",
    "print(my_set)\n",
    "\n",
    "#add elements to set\n",
    "my_set.add(12)\n",
    "for i in my_set:\n",
    "  print(i)\n",
    "#update set\n",
    "my_set.update([22,'jaydip'])\n",
    "print(my_set)\n",
    "\n",
    "#delete element from set\n",
    "my_set.discard(3)\n",
    "my_set.remove('gaurav')\n",
    "print(my_set)"
   ]
  },
  {
   "cell_type": "markdown",
   "metadata": {
    "id": "0D3lzXyIc9hp"
   },
   "source": [
    "Dictionary"
   ]
  },
  {
   "cell_type": "code",
   "execution_count": 30,
   "metadata": {
    "colab": {
     "base_uri": "https://localhost:8080/"
    },
    "executionInfo": {
     "elapsed": 637,
     "status": "ok",
     "timestamp": 1646758605952,
     "user": {
      "displayName": "Mansi Vadane",
      "photoUrl": "https://lh3.googleusercontent.com/a-/AOh14Ggm478UHcFcGYq9EoRalkIO9y4oHx2ZTyA5KPUBzaY=s64",
      "userId": "10914899994357057095"
     },
     "user_tz": -330
    },
    "id": "3QmqmK3tdaB-",
    "outputId": "ae748641-98c9-40e4-d896-62b230f370d3"
   },
   "outputs": [
    {
     "name": "stdout",
     "output_type": "stream",
     "text": [
      "<class 'dict'>\n"
     ]
    }
   ],
   "source": [
    "# empty dictionary\n",
    "my_dict = {}\n",
    "print(type(my_dict))"
   ]
  },
  {
   "cell_type": "code",
   "execution_count": 5,
   "metadata": {
    "colab": {
     "base_uri": "https://localhost:8080/"
    },
    "executionInfo": {
     "elapsed": 414,
     "status": "ok",
     "timestamp": 1646758745195,
     "user": {
      "displayName": "Mansi Vadane",
      "photoUrl": "https://lh3.googleusercontent.com/a-/AOh14Ggm478UHcFcGYq9EoRalkIO9y4oHx2ZTyA5KPUBzaY=s64",
      "userId": "10914899994357057095"
     },
     "user_tz": -330
    },
    "id": "CLSgY2dibdlQ",
    "outputId": "018dc2ea-4a85-452e-e83d-59aff3359270"
   },
   "outputs": [
    {
     "name": "stdout",
     "output_type": "stream",
     "text": [
      "{1: 'Gaurav', 2: 'Python'}\n",
      "{'name': 'Sanjivani', 1: [2, 4, 3]}\n",
      "{1: 'Comp', 2: 'IT'}\n",
      "{'name': 'sanjivani', 2: 'PICT'}\n",
      "sanjivani\n",
      "PICT\n"
     ]
    }
   ],
   "source": [
    "# dictionary with integer keys\n",
    "my_dict = {1: 'Gaurav', 2: 'Python'}\n",
    "print(my_dict)\n",
    "\n",
    "# dictionary with mixed keys\n",
    "my_dict = {'name': 'Sanjivani', 1: [2, 4, 3]}\n",
    "print(my_dict)\n",
    "\n",
    "# using dict()\n",
    "my_dict = dict({1:'Comp', 2:'IT'})\n",
    "print(my_dict)\n",
    "\n",
    "# from sequence having each item as a pair\n",
    "my_dict = dict([('name','sanjivani'), (2,'PICT')])\n",
    "print(my_dict)\n",
    "\n",
    "#access the values from dictionary\n",
    "print(my_dict['name'])\n",
    "print(my_dict.get(2))"
   ]
  },
  {
   "cell_type": "markdown",
   "metadata": {
    "id": "lKHnuDzYeZQl"
   },
   "source": [
    "Membership Operators"
   ]
  },
  {
   "cell_type": "code",
   "execution_count": 40,
   "metadata": {
    "colab": {
     "base_uri": "https://localhost:8080/"
    },
    "executionInfo": {
     "elapsed": 568,
     "status": "ok",
     "timestamp": 1646759200326,
     "user": {
      "displayName": "Mansi Vadane",
      "photoUrl": "https://lh3.googleusercontent.com/a-/AOh14Ggm478UHcFcGYq9EoRalkIO9y4oHx2ZTyA5KPUBzaY=s64",
      "userId": "10914899994357057095"
     },
     "user_tz": -330
    },
    "id": "YCj55DqcecOd",
    "outputId": "6d63bf2e-0d5a-4970-f473-a04c5294b490"
   },
   "outputs": [
    {
     "name": "stdout",
     "output_type": "stream",
     "text": [
      "true\n",
      "True\n",
      "False\n",
      "true\n",
      "True\n",
      "True\n"
     ]
    }
   ],
   "source": [
    "# In Operator\n",
    "x = 5\n",
    "if (type(x) is int):\n",
    "    print(\"true\")\n",
    "else:\n",
    "    print(\"false\")\n",
    "\n",
    "str= \"Celebal\"\n",
    "print ('le' in str)\n",
    "print ('lcb' in str)\n",
    "\n",
    "#Not In Operator\n",
    "x = 5.2\n",
    "if (type(x) is not int):\n",
    "    print(\"true\")\n",
    "else:\n",
    "    print(\"false\") \n",
    "    \n",
    "str1= \"Sanjivani\"\n",
    "print('sanjivani' not in str1)\n",
    "print('celebal' not in str1)"
   ]
  },
  {
   "cell_type": "markdown",
   "metadata": {
    "id": "bVX-wNH8gFsX"
   },
   "source": [
    "For Loop"
   ]
  },
  {
   "cell_type": "code",
   "execution_count": 42,
   "metadata": {
    "colab": {
     "base_uri": "https://localhost:8080/"
    },
    "executionInfo": {
     "elapsed": 2,
     "status": "ok",
     "timestamp": 1646759329198,
     "user": {
      "displayName": "Mansi Vadane",
      "photoUrl": "https://lh3.googleusercontent.com/a-/AOh14Ggm478UHcFcGYq9EoRalkIO9y4oHx2ZTyA5KPUBzaY=s64",
      "userId": "10914899994357057095"
     },
     "user_tz": -330
    },
    "id": "6N1XOnovf6nr",
    "outputId": "9aa3a330-85ff-42b3-fea1-037129de304b"
   },
   "outputs": [
    {
     "name": "stdout",
     "output_type": "stream",
     "text": [
      "C\n",
      "e\n",
      "l\n",
      "e\n",
      "b\n",
      "a\n",
      "l\n",
      " \n",
      "T\n",
      "e\n",
      "c\n",
      "h\n",
      "n\n",
      "o\n",
      "l\n",
      "o\n",
      "g\n",
      "y\n",
      "!\n"
     ]
    }
   ],
   "source": [
    "#for loop\n",
    "str = \"Celebal Technology!\"\n",
    "for i in str:\n",
    "  print(i)"
   ]
  },
  {
   "cell_type": "code",
   "execution_count": 4,
   "metadata": {
    "colab": {
     "base_uri": "https://localhost:8080/"
    },
    "executionInfo": {
     "elapsed": 432,
     "status": "ok",
     "timestamp": 1646759517919,
     "user": {
      "displayName": "Mansi Vadane",
      "photoUrl": "https://lh3.googleusercontent.com/a-/AOh14Ggm478UHcFcGYq9EoRalkIO9y4oHx2ZTyA5KPUBzaY=s64",
      "userId": "10914899994357057095"
     },
     "user_tz": -330
    },
    "id": "M3_XYiXKgUlY",
    "outputId": "d146c6c7-fa88-471c-bac7-c49d7f72bf2a"
   },
   "outputs": [
    {
     "name": "stdout",
     "output_type": "stream",
     "text": [
      "\n",
      "* \n",
      "* * \n",
      "* * * \n",
      "* * * * \n",
      "* * * * * \n",
      "* * * * * * \n",
      "* * * * * * * \n",
      "* * * * * * * * \n"
     ]
    }
   ],
   "source": [
    "rows = 9\n",
    "for i in range(rows):\n",
    "    for j in range(i):\n",
    "        print(\"*\", end=' ')\n",
    "    print('')"
   ]
  },
  {
   "cell_type": "code",
   "execution_count": null,
   "metadata": {},
   "outputs": [],
   "source": []
  }
 ],
 "metadata": {
  "colab": {
   "authorship_tag": "ABX9TyPBELQ4ek3VODlnvXXesxmc",
   "collapsed_sections": [],
   "name": "Copy of Celebal-week3.ipynb",
   "provenance": [
    {
     "file_id": "1B5pk1o_NLAMp2O1znU8zPmoweEuddVL_",
     "timestamp": 1646759557574
    }
   ]
  },
  "kernelspec": {
   "display_name": "Python 3",
   "language": "python",
   "name": "python3"
  },
  "language_info": {
   "codemirror_mode": {
    "name": "ipython",
    "version": 3
   },
   "file_extension": ".py",
   "mimetype": "text/x-python",
   "name": "python",
   "nbconvert_exporter": "python",
   "pygments_lexer": "ipython3",
   "version": "3.8.8"
  }
 },
 "nbformat": 4,
 "nbformat_minor": 1
}
